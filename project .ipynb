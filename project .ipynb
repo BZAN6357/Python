{
 "cells": [
  {
   "cell_type": "markdown",
   "metadata": {},
   "source": [
    "# Table of Contents (need to re-edit it)\n",
    "- [Introduction](#Introduction)\n",
    "- [Project Objective](#Project Objective)\n",
    "- [Process Summary](#Process Summary)\n",
    "- [EDA](#EDA)\n",
    "- [Clean the example review texts](#clean-example-texts)\n",
    "- [Learn to prepare texts for modeling](#learn-to-prepare-text)\n",
    "- [Clean & prepare an entire column of texts](#clean-prepare-entire-text-column)\n",
    "- [LDA analysis](#lda)"
   ]
  },
  {
   "cell_type": "markdown",
   "metadata": {},
   "source": [
    "<a id='Introduction'></a>\n",
    "# Introduction"
   ]
  },
  {
   "cell_type": "markdown",
   "metadata": {},
   "source": [
    "<a id='Project Objective'></a>\n",
    "# Project Objective"
   ]
  },
  {
   "cell_type": "markdown",
   "metadata": {},
   "source": [
    "<a id='symbols'></a>\n",
    "# Meanings of some symbols"
   ]
  },
  {
   "cell_type": "code",
   "execution_count": 1,
   "metadata": {},
   "outputs": [],
   "source": [
    "import numpy as np\n",
    "import pandas as pd\n",
    "from numpy import NaN as NA\n",
    "import numpy.random as random\n",
    "from sklearn.preprocessing import StandardScaler, MinMaxScaler, OneHotEncoder\n",
    "from sklearn.compose import make_column_transformer\n",
    "from sklearn.model_selection import train_test_split\n",
    "from sklearn.metrics import accuracy_score\n",
    "from statsmodels.stats.proportion import proportions_ztest\n",
    "from statsmodels.stats.weightstats import ttest_ind\n",
    "import matplotlib.pyplot as plt\n",
    "import seaborn as sns\n",
    "\n",
    "%matplotlib inline\n",
    "sns.set_style('ticks')\n"
   ]
  },
  {
   "cell_type": "code",
   "execution_count": 2,
   "metadata": {},
   "outputs": [],
   "source": [
    "np.random.seed(30)\n",
    "random_state = 30"
   ]
  },
  {
   "cell_type": "code",
   "execution_count": 47,
   "metadata": {},
   "outputs": [],
   "source": [
    "insur_t= pd.read_csv('bzan6357_insurance_3_TRAINING.csv')\n",
    "insur_s=pd.read_csv('bzan6357_insurance_3_SCORE.csv')"
   ]
  },
  {
   "cell_type": "code",
   "execution_count": 48,
   "metadata": {},
   "outputs": [
    {
     "data": {
      "text/plain": [
       "id_new              object\n",
       "buy                  int64\n",
       "age                  int64\n",
       "gender              object\n",
       "tenure               int64\n",
       "region               int64\n",
       "dl                   int64\n",
       "has_v_insurance      int64\n",
       "v_age               object\n",
       "v_accident          object\n",
       "v_prem_quote       float64\n",
       "cs_rep               int64\n",
       "dtype: object"
      ]
     },
     "execution_count": 48,
     "metadata": {},
     "output_type": "execute_result"
    }
   ],
   "source": [
    "insur_t.dtypes"
   ]
  },
  {
   "cell_type": "code",
   "execution_count": 49,
   "metadata": {},
   "outputs": [],
   "source": [
    "insur_t['v_accident'] = (insur_t['v_accident'] == 'yes').astype(int)\n",
    "insur_t['gender'] =(insur_t['gender'] == 'female').astype(int)"
   ]
  },
  {
   "cell_type": "code",
   "execution_count": 50,
   "metadata": {},
   "outputs": [],
   "source": [
    "insur_t['v_age'] = insur_t['v_age'].astype('category')"
   ]
  },
  {
   "cell_type": "code",
   "execution_count": 51,
   "metadata": {
    "scrolled": true
   },
   "outputs": [
    {
     "data": {
      "text/plain": [
       "id_new               object\n",
       "buy                   int64\n",
       "age                   int64\n",
       "gender                int64\n",
       "tenure                int64\n",
       "region                int64\n",
       "dl                    int64\n",
       "has_v_insurance       int64\n",
       "v_age              category\n",
       "v_accident            int64\n",
       "v_prem_quote        float64\n",
       "cs_rep                int64\n",
       "dtype: object"
      ]
     },
     "execution_count": 51,
     "metadata": {},
     "output_type": "execute_result"
    }
   ],
   "source": [
    "insur_t.dtypes"
   ]
  },
  {
   "cell_type": "code",
   "execution_count": 63,
   "metadata": {
    "scrolled": true
   },
   "outputs": [
    {
     "data": {
      "text/html": [
       "<div>\n",
       "<style scoped>\n",
       "    .dataframe tbody tr th:only-of-type {\n",
       "        vertical-align: middle;\n",
       "    }\n",
       "\n",
       "    .dataframe tbody tr th {\n",
       "        vertical-align: top;\n",
       "    }\n",
       "\n",
       "    .dataframe thead th {\n",
       "        text-align: right;\n",
       "    }\n",
       "</style>\n",
       "<table border=\"1\" class=\"dataframe\">\n",
       "  <thead>\n",
       "    <tr style=\"text-align: right;\">\n",
       "      <th></th>\n",
       "      <th>id_new</th>\n",
       "      <th>buy</th>\n",
       "      <th>age</th>\n",
       "      <th>gender</th>\n",
       "      <th>tenure</th>\n",
       "      <th>region</th>\n",
       "      <th>dl</th>\n",
       "      <th>has_v_insurance</th>\n",
       "      <th>v_age</th>\n",
       "      <th>v_accident</th>\n",
       "      <th>v_prem_quote</th>\n",
       "      <th>cs_rep</th>\n",
       "    </tr>\n",
       "  </thead>\n",
       "  <tbody>\n",
       "    <tr>\n",
       "      <th>0</th>\n",
       "      <td>a00000000</td>\n",
       "      <td>0</td>\n",
       "      <td>34</td>\n",
       "      <td>1</td>\n",
       "      <td>31</td>\n",
       "      <td>19</td>\n",
       "      <td>1</td>\n",
       "      <td>0</td>\n",
       "      <td>1-2 year</td>\n",
       "      <td>1</td>\n",
       "      <td>27715.0</td>\n",
       "      <td>154</td>\n",
       "    </tr>\n",
       "    <tr>\n",
       "      <th>1</th>\n",
       "      <td>a00000001</td>\n",
       "      <td>0</td>\n",
       "      <td>50</td>\n",
       "      <td>0</td>\n",
       "      <td>211</td>\n",
       "      <td>34</td>\n",
       "      <td>1</td>\n",
       "      <td>0</td>\n",
       "      <td>1-2 year</td>\n",
       "      <td>1</td>\n",
       "      <td>33945.0</td>\n",
       "      <td>154</td>\n",
       "    </tr>\n",
       "    <tr>\n",
       "      <th>2</th>\n",
       "      <td>a00000002</td>\n",
       "      <td>0</td>\n",
       "      <td>42</td>\n",
       "      <td>1</td>\n",
       "      <td>122</td>\n",
       "      <td>29</td>\n",
       "      <td>1</td>\n",
       "      <td>0</td>\n",
       "      <td>1-2 year</td>\n",
       "      <td>1</td>\n",
       "      <td>37577.0</td>\n",
       "      <td>163</td>\n",
       "    </tr>\n",
       "    <tr>\n",
       "      <th>3</th>\n",
       "      <td>a00000003</td>\n",
       "      <td>0</td>\n",
       "      <td>28</td>\n",
       "      <td>0</td>\n",
       "      <td>75</td>\n",
       "      <td>3</td>\n",
       "      <td>1</td>\n",
       "      <td>0</td>\n",
       "      <td>1-2 year</td>\n",
       "      <td>1</td>\n",
       "      <td>2630.0</td>\n",
       "      <td>154</td>\n",
       "    </tr>\n",
       "    <tr>\n",
       "      <th>4</th>\n",
       "      <td>a00000004</td>\n",
       "      <td>0</td>\n",
       "      <td>75</td>\n",
       "      <td>1</td>\n",
       "      <td>19</td>\n",
       "      <td>28</td>\n",
       "      <td>1</td>\n",
       "      <td>0</td>\n",
       "      <td>1-2 year</td>\n",
       "      <td>1</td>\n",
       "      <td>47511.0</td>\n",
       "      <td>122</td>\n",
       "    </tr>\n",
       "    <tr>\n",
       "      <th>5</th>\n",
       "      <td>a00000005</td>\n",
       "      <td>0</td>\n",
       "      <td>25</td>\n",
       "      <td>0</td>\n",
       "      <td>55</td>\n",
       "      <td>45</td>\n",
       "      <td>1</td>\n",
       "      <td>1</td>\n",
       "      <td>&lt; 1 year</td>\n",
       "      <td>0</td>\n",
       "      <td>32423.0</td>\n",
       "      <td>151</td>\n",
       "    </tr>\n",
       "    <tr>\n",
       "      <th>6</th>\n",
       "      <td>a00000006</td>\n",
       "      <td>0</td>\n",
       "      <td>34</td>\n",
       "      <td>0</td>\n",
       "      <td>246</td>\n",
       "      <td>28</td>\n",
       "      <td>1</td>\n",
       "      <td>1</td>\n",
       "      <td>1-2 year</td>\n",
       "      <td>0</td>\n",
       "      <td>59404.0</td>\n",
       "      <td>122</td>\n",
       "    </tr>\n",
       "    <tr>\n",
       "      <th>7</th>\n",
       "      <td>a00000007</td>\n",
       "      <td>0</td>\n",
       "      <td>76</td>\n",
       "      <td>0</td>\n",
       "      <td>148</td>\n",
       "      <td>28</td>\n",
       "      <td>1</td>\n",
       "      <td>0</td>\n",
       "      <td>1-2 year</td>\n",
       "      <td>1</td>\n",
       "      <td>48910.0</td>\n",
       "      <td>122</td>\n",
       "    </tr>\n",
       "    <tr>\n",
       "      <th>8</th>\n",
       "      <td>a00000008</td>\n",
       "      <td>0</td>\n",
       "      <td>42</td>\n",
       "      <td>0</td>\n",
       "      <td>292</td>\n",
       "      <td>28</td>\n",
       "      <td>1</td>\n",
       "      <td>0</td>\n",
       "      <td>1-2 year</td>\n",
       "      <td>1</td>\n",
       "      <td>29834.0</td>\n",
       "      <td>122</td>\n",
       "    </tr>\n",
       "    <tr>\n",
       "      <th>9</th>\n",
       "      <td>a00000009</td>\n",
       "      <td>1</td>\n",
       "      <td>50</td>\n",
       "      <td>0</td>\n",
       "      <td>127</td>\n",
       "      <td>28</td>\n",
       "      <td>1</td>\n",
       "      <td>0</td>\n",
       "      <td>&gt; 2 years</td>\n",
       "      <td>1</td>\n",
       "      <td>56986.0</td>\n",
       "      <td>122</td>\n",
       "    </tr>\n",
       "  </tbody>\n",
       "</table>\n",
       "</div>"
      ],
      "text/plain": [
       "      id_new  buy  age  gender  tenure  region  dl  has_v_insurance  \\\n",
       "0  a00000000    0   34       1      31      19   1                0   \n",
       "1  a00000001    0   50       0     211      34   1                0   \n",
       "2  a00000002    0   42       1     122      29   1                0   \n",
       "3  a00000003    0   28       0      75       3   1                0   \n",
       "4  a00000004    0   75       1      19      28   1                0   \n",
       "5  a00000005    0   25       0      55      45   1                1   \n",
       "6  a00000006    0   34       0     246      28   1                1   \n",
       "7  a00000007    0   76       0     148      28   1                0   \n",
       "8  a00000008    0   42       0     292      28   1                0   \n",
       "9  a00000009    1   50       0     127      28   1                0   \n",
       "\n",
       "       v_age  v_accident  v_prem_quote  cs_rep  \n",
       "0   1-2 year           1       27715.0     154  \n",
       "1   1-2 year           1       33945.0     154  \n",
       "2   1-2 year           1       37577.0     163  \n",
       "3   1-2 year           1        2630.0     154  \n",
       "4   1-2 year           1       47511.0     122  \n",
       "5   < 1 year           0       32423.0     151  \n",
       "6   1-2 year           0       59404.0     122  \n",
       "7   1-2 year           1       48910.0     122  \n",
       "8   1-2 year           1       29834.0     122  \n",
       "9  > 2 years           1       56986.0     122  "
      ]
     },
     "execution_count": 63,
     "metadata": {},
     "output_type": "execute_result"
    }
   ],
   "source": [
    "insur_t.head(10)"
   ]
  },
  {
   "cell_type": "code",
   "execution_count": 53,
   "metadata": {},
   "outputs": [
    {
     "name": "stdout",
     "output_type": "stream",
     "text": [
      "there are 3 discrete labes in \"area_code\";they are: ['1-2 year' '< 1 year' '> 2 years']\n",
      "thus,2 flag vars are needed\n"
     ]
    }
   ],
   "source": [
    "n_labels=insur_t['v_age'].nunique()\n",
    "labels=np.sort(insur_t['v_age'].unique())\n",
    "print(f'there are {n_labels} discrete labes in \"area_code\";they are: {labels}')\n",
    "print(f'thus,{n_labels - 1} flag vars are needed')"
   ]
  },
  {
   "cell_type": "code",
   "execution_count": 59,
   "metadata": {},
   "outputs": [],
   "source": [
    "flags_v_age=pd.get_dummies(insur_t[\"v_age\"],prefix='flag_v_age',drop_first=True)\n",
    "flags_v_age['id_new']=insur_t['id_new'].copy()\n",
    "insur_t1=pd.merge(left=insur_t,right=flags_v_age,how='inner',on='id_new',validate='1:1')\n",
    "\n"
   ]
  },
  {
   "cell_type": "code",
   "execution_count": 62,
   "metadata": {},
   "outputs": [
    {
     "data": {
      "text/html": [
       "<div>\n",
       "<style scoped>\n",
       "    .dataframe tbody tr th:only-of-type {\n",
       "        vertical-align: middle;\n",
       "    }\n",
       "\n",
       "    .dataframe tbody tr th {\n",
       "        vertical-align: top;\n",
       "    }\n",
       "\n",
       "    .dataframe thead th {\n",
       "        text-align: right;\n",
       "    }\n",
       "</style>\n",
       "<table border=\"1\" class=\"dataframe\">\n",
       "  <thead>\n",
       "    <tr style=\"text-align: right;\">\n",
       "      <th></th>\n",
       "      <th>id_new</th>\n",
       "      <th>flag_v_age_&lt; 1 year</th>\n",
       "      <th>flag_v_age_&gt; 2 years</th>\n",
       "    </tr>\n",
       "  </thead>\n",
       "  <tbody>\n",
       "    <tr>\n",
       "      <th>0</th>\n",
       "      <td>a00000000</td>\n",
       "      <td>0</td>\n",
       "      <td>0</td>\n",
       "    </tr>\n",
       "    <tr>\n",
       "      <th>1</th>\n",
       "      <td>a00000001</td>\n",
       "      <td>0</td>\n",
       "      <td>0</td>\n",
       "    </tr>\n",
       "    <tr>\n",
       "      <th>2</th>\n",
       "      <td>a00000002</td>\n",
       "      <td>0</td>\n",
       "      <td>0</td>\n",
       "    </tr>\n",
       "    <tr>\n",
       "      <th>3</th>\n",
       "      <td>a00000003</td>\n",
       "      <td>0</td>\n",
       "      <td>0</td>\n",
       "    </tr>\n",
       "    <tr>\n",
       "      <th>4</th>\n",
       "      <td>a00000004</td>\n",
       "      <td>0</td>\n",
       "      <td>0</td>\n",
       "    </tr>\n",
       "    <tr>\n",
       "      <th>5</th>\n",
       "      <td>a00000005</td>\n",
       "      <td>1</td>\n",
       "      <td>0</td>\n",
       "    </tr>\n",
       "    <tr>\n",
       "      <th>6</th>\n",
       "      <td>a00000006</td>\n",
       "      <td>0</td>\n",
       "      <td>0</td>\n",
       "    </tr>\n",
       "    <tr>\n",
       "      <th>7</th>\n",
       "      <td>a00000007</td>\n",
       "      <td>0</td>\n",
       "      <td>0</td>\n",
       "    </tr>\n",
       "    <tr>\n",
       "      <th>8</th>\n",
       "      <td>a00000008</td>\n",
       "      <td>0</td>\n",
       "      <td>0</td>\n",
       "    </tr>\n",
       "    <tr>\n",
       "      <th>9</th>\n",
       "      <td>a00000009</td>\n",
       "      <td>0</td>\n",
       "      <td>1</td>\n",
       "    </tr>\n",
       "  </tbody>\n",
       "</table>\n",
       "</div>"
      ],
      "text/plain": [
       "      id_new  flag_v_age_< 1 year  flag_v_age_> 2 years\n",
       "0  a00000000                    0                     0\n",
       "1  a00000001                    0                     0\n",
       "2  a00000002                    0                     0\n",
       "3  a00000003                    0                     0\n",
       "4  a00000004                    0                     0\n",
       "5  a00000005                    1                     0\n",
       "6  a00000006                    0                     0\n",
       "7  a00000007                    0                     0\n",
       "8  a00000008                    0                     0\n",
       "9  a00000009                    0                     1"
      ]
     },
     "execution_count": 62,
     "metadata": {},
     "output_type": "execute_result"
    }
   ],
   "source": [
    "insur_t[['id_new','v_age']].head(3)\n",
    "insur_t1[['id_new']+ [col for col in insur_t1.columns if 'flag' in col]].head(10)"
   ]
  },
  {
   "cell_type": "code",
   "execution_count": 64,
   "metadata": {},
   "outputs": [
    {
     "data": {
      "text/plain": [
       "id_new                    object\n",
       "buy                        int64\n",
       "age                        int64\n",
       "gender                     int64\n",
       "tenure                     int64\n",
       "region                     int64\n",
       "dl                         int64\n",
       "has_v_insurance            int64\n",
       "v_age                   category\n",
       "v_accident                 int64\n",
       "v_prem_quote             float64\n",
       "cs_rep                     int64\n",
       "flag_v_age_< 1 year        uint8\n",
       "flag_v_age_> 2 years       uint8\n",
       "dtype: object"
      ]
     },
     "execution_count": 64,
     "metadata": {},
     "output_type": "execute_result"
    }
   ],
   "source": [
    "insur_t1.dtypes"
   ]
  },
  {
   "cell_type": "markdown",
   "metadata": {},
   "source": [
    "<a id='EDA'></a>\n",
    "# EDA"
   ]
  },
  {
   "cell_type": "markdown",
   "metadata": {},
   "source": [
    " "
   ]
  },
  {
   "cell_type": "markdown",
   "metadata": {},
   "source": [
    "<a id='clean-example-texts'></a>\n",
    "# Clean the example review texts"
   ]
  },
  {
   "cell_type": "markdown",
   "metadata": {},
   "source": [
    " "
   ]
  },
  {
   "cell_type": "markdown",
   "metadata": {},
   "source": [
    "<a id='learn-to-prepare-text'></a>\n",
    "# Learn to prepare texts for modeling"
   ]
  },
  {
   "cell_type": "markdown",
   "metadata": {},
   "source": [
    "## Import packages"
   ]
  },
  {
   "cell_type": "markdown",
   "metadata": {},
   "source": [
    " "
   ]
  },
  {
   "cell_type": "markdown",
   "metadata": {},
   "source": [
    "## Demo individual functions"
   ]
  },
  {
   "cell_type": "markdown",
   "metadata": {},
   "source": [
    "#### Caution! Output of `simple_tokenize()` is not an array!"
   ]
  },
  {
   "cell_type": "markdown",
   "metadata": {},
   "source": [
    "### 3. remove terms of extreme lengths\n",
    "Typically, a term that is below 3-char long or over 15-char long is very rare; rare terms are minimally useful in text-mining, unless the kind of documents you deal with consists of many highly professional and rare vocabularies\n",
    "\n",
    "E.g., short terms such as \"as\", \"is\" appear too often in most documents; long terms such as \"Buckminsterfullerene\" (type of carbon) may only appear in 1 document in the entire corpus, they are eventually useless in common text-mining projects\n",
    "\n",
    ">In fact, many of the extremely short words (\"as\", \"is\", etc.) are known as **stop-word**"
   ]
  },
  {
   "cell_type": "markdown",
   "metadata": {},
   "source": [
    "### 4. remove stop-words\n",
    ">`STOPWORDS` from `gensim` is a set containing lower-case common English stop-words"
   ]
  }
 ],
 "metadata": {
  "kernelspec": {
   "display_name": "Python 3",
   "language": "python",
   "name": "python3"
  },
  "language_info": {
   "codemirror_mode": {
    "name": "ipython",
    "version": 3
   },
   "file_extension": ".py",
   "mimetype": "text/x-python",
   "name": "python",
   "nbconvert_exporter": "python",
   "pygments_lexer": "ipython3",
   "version": "3.7.3"
  }
 },
 "nbformat": 4,
 "nbformat_minor": 2
}
